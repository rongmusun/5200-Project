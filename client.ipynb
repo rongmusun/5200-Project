{
 "cells": [
  {
   "cell_type": "raw",
   "metadata": {
    "vscode": {
     "languageId": "raw"
    }
   },
   "source": [
    "---\n",
    "title: \"Dashboard\"\n",
    "\n",
    "format:\n",
    "  html:\n",
    "    embed-resources: true\n",
    "    code-fold: true\n",
    "---"
   ]
  },
  {
   "cell_type": "markdown",
   "metadata": {},
   "source": [
    "The dashboard is constructed using HTML components and is an instance of a Dash application. Each HTML.Div contains a graph, and our dashboard displays a total of four interactive charts.\n",
    "\n",
    "First, we present a scatter plot that explores the relationship between age and BMI. This chart illustrates how age and BMI are associated with stroke history. (You might want to analyze a few data points to discuss their specific age, BMI, and stroke risk.)\n",
    "\n",
    "Next, we use a bar chart to demonstrate the distribution of stroke occurrences across different genders. This visual allows us to easily compare the differences in stroke risk between genders.\n",
    "\n",
    "Additionally, our application includes a heatmap that shows the connection between high blood pressure, heart disease, and stroke history.\n",
    "\n",
    "Finally, we display a 3D scatter plot that combines the three dimensions of average glucose level, BMI, and age, with color representing stroke history. This plot clearly shows the impact of these three features on the risk of stroke."
   ]
  },
  {
   "cell_type": "code",
   "execution_count": null,
   "metadata": {},
   "outputs": [],
   "source": [
    "import dash\n",
    "from dash import html, dcc, Input, Output, ctx\n",
    "import plotly.express as px\n",
    "import pandas as pd\n",
    "\n",
    "import warnings\n",
    "warnings.filterwarnings('ignore')\n",
    "\n",
    "# Load dataset\n",
    "df = pd.read_csv('stroke_prediction_dataset.csv')\n",
    "\n",
    "# Initialize the Dash app\n",
    "app = dash.Dash(__name__)\n",
    "\n",
    "# App layout\n",
    "app.layout = html.Div([\n",
    "    html.H1(\"Stroke Risk Data Visualization\", style={'text-align': 'center'}),\n",
    "\n",
    "    # Age vs. BMI Scatter Plot\n",
    "    html.Div([\n",
    "        html.H2(\"Age vs. BMI Scatter Plot\"),\n",
    "        dcc.Graph(id='age-bmi-scatter'),\n",
    "    ]),\n",
    "\n",
    "    # Gender Distribution with Stroke Occurrence\n",
    "    html.Div([\n",
    "        html.H2(\"Gender Distribution with Stroke Occurrence\"),\n",
    "        dcc.Graph(id='gender-distribution'),\n",
    "    ]),\n",
    "\n",
    "    # Hypertension and Heart Disease Heatmap\n",
    "    html.Div([\n",
    "        html.H2(\"Hypertension and Heart Disease Heatmap\"),\n",
    "        dcc.Graph(id='hypertension-heatmap'),\n",
    "    ]),\n",
    "\n",
    "    # Average Glucose Level vs. BMI 3D Scatter Plot\n",
    "    html.Div([\n",
    "        html.H2(\"Average Glucose Level vs. BMI 3D Scatter Plot\"),\n",
    "        dcc.Graph(id='glucose-bmi-3d-scatter'),\n",
    "    ]),\n",
    "])\n",
    "\n",
    "\n",
    "# Callbacks for interactive components\n",
    "@app.callback(\n",
    "    Output('age-bmi-scatter', 'figure'),\n",
    "    Input('age-bmi-scatter', 'id')  # Just a trigger to load the plot\n",
    ")\n",
    "def update_age_bmi_scatter(_):\n",
    "    fig = px.scatter(df, x='Age', y='Body Mass Index (BMI)', color='Stroke History',\n",
    "                     title=\"Relationship Between Age and BMI Across Stroke History\")\n",
    "    return fig\n",
    "\n",
    "\n",
    "@app.callback(\n",
    "    Output('gender-distribution', 'figure'),\n",
    "    Input('gender-distribution', 'id')  # Just a trigger to load the plot\n",
    ")\n",
    "def update_gender_distribution(_):\n",
    "    stroke_df = df.groupby(['Gender', 'Stroke History']).size().reset_index(name='counts')\n",
    "    fig = px.bar(stroke_df, x='Gender', y='counts', color='Stroke History',\n",
    "                 title=\"Stroke Occurrence by Gender\")\n",
    "    return fig\n",
    "\n",
    "\n",
    "@app.callback(\n",
    "    Output('hypertension-heatmap', 'figure'),\n",
    "    Input('hypertension-heatmap', 'id')  # Just a trigger to load the plot\n",
    ")\n",
    "def update_hypertension_heatmap(_):\n",
    "    heatmap_data = df.groupby(['Hypertension', 'Heart Disease', 'Stroke History']).size().unstack().fillna(0)\n",
    "    fig = px.imshow(heatmap_data, text_auto=True,\n",
    "                    labels=dict(x=\"Heart Disease\", y=\"Hypertension\", color=\"Count\"),\n",
    "                    title=\"Correlation Heatmap of Hypertension, Heart Disease, and Stroke\")\n",
    "    return fig\n",
    "\n",
    "\n",
    "@app.callback(\n",
    "    Output('glucose-bmi-3d-scatter', 'figure'),\n",
    "    Input('glucose-bmi-3d-scatter', 'id')  # Just a trigger to load the plot\n",
    ")\n",
    "def update_glucose_bmi_3d_scatter(_):\n",
    "    fig = px.scatter_3d(df, x='Average Glucose Level', y='Body Mass Index (BMI)', z='Age',\n",
    "                        color='Stroke History',\n",
    "                        title=\"3D Plot of Glucose, BMI, and Age with Stroke History\")\n",
    "    return fig\n",
    "\n",
    "\n",
    "# Run the application\n",
    "if __name__ == '__main__':\n",
    "    app.run_server(debug=True)"
   ]
  },
  {
   "cell_type": "markdown",
   "metadata": {},
   "source": [
    "[Dashboard](http://127.0.0.1:8050/)"
   ]
  }
 ],
 "metadata": {
  "kernelspec": {
   "display_name": "base",
   "language": "python",
   "name": "python3"
  },
  "language_info": {
   "codemirror_mode": {
    "name": "ipython",
    "version": 3
   },
   "file_extension": ".py",
   "mimetype": "text/x-python",
   "name": "python",
   "nbconvert_exporter": "python",
   "pygments_lexer": "ipython3",
   "version": "3.8.5"
  }
 },
 "nbformat": 4,
 "nbformat_minor": 2
}
